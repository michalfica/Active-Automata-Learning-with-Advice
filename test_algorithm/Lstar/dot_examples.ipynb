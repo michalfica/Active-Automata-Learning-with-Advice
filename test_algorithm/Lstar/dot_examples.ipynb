{
 "cells": [
  {
   "cell_type": "code",
   "execution_count": 2,
   "id": "4325f870",
   "metadata": {},
   "outputs": [],
   "source": [
    "import copy, sys, pandas as pd\n",
    "import random\n",
    "import time\n",
    "import numpy as np\n",
    "import subprocess\n",
    "\n",
    "sys.path.append(\"../../\")\n",
    "sys.path.append(\"../../inferring\")\n",
    "sys.path.append(\"../../utils/DFA\")\n",
    "from importlib import reload\n",
    "\n",
    "\n",
    "import inferring.Inferring as Inferring, inferring.InferringDFA as InferringDFA\n",
    "import utils.automats.DFA\n",
    "import utils.advice_systems.SRS as SRS\n",
    "import utils.advice_systems.SRSconv_with_common as SRS_common\n",
    "\n",
    "reload(SRS_common)\n",
    "\n",
    "reload(SRS)\n",
    "reload(Inferring)\n",
    "reload(InferringDFA)\n",
    "reload(utils.automats.DFA)\n",
    "\n",
    "from inferring.Inferring import Inferring\n",
    "from utils.automats.DFA.DFA import DFA\n",
    "from utils.advice_systems.SRS import SRS\n",
    "from utils.advice_systems.SRSconv_with_common import SRSconv_with_common\n",
    "from inferring.InferringDFA import InferringDFA"
   ]
  },
  {
   "cell_type": "code",
   "execution_count": 10,
   "id": "2eeae5b2",
   "metadata": {},
   "outputs": [
    {
     "name": "stdout",
     "output_type": "stream",
     "text": [
      "16 30\n",
      "0 1 2 0 0 0 0 0 0 0 16 16 16 16 16 16 16 16 16 16 16 16 16 16 16 16 16 16 16 16 \n",
      "1 1 16 1 1 1 1 1 1 1 1 16 16 16 16 16 16 16 16 16 16 16 16 16 16 16 16 16 16 16 \n",
      "1 5 16 16 16 6 16 16 16 2 2 2 4 2 2 3 16 16 16 16 16 16 16 16 16 16 16 16 16 16 \n",
      "1 16 16 16 16 1 16 16 16 3 3 16 16 4 16 16 8 7 3 9 3 16 16 16 16 16 16 16 16 16 \n",
      "1 16 16 16 16 1 16 16 16 10 4 16 16 4 16 16 8 7 4 9 4 16 16 16 16 16 16 16 16 16 \n",
      "1 5 16 16 16 1 16 16 1 5 5 16 16 16 16 16 16 16 16 16 16 1 1 1 1 16 16 16 16 16 \n",
      "6 1 16 6 6 6 6 6 16 6 6 16 16 16 16 16 16 16 16 16 16 16 16 16 16 3 16 16 16 16 \n",
      "1 16 16 16 16 1 16 16 16 4 7 16 16 7 16 16 16 7 7 11 7 16 16 16 16 16 1 16 16 16 \n",
      "1 8 16 16 16 1 16 16 16 8 8 16 16 12 16 16 16 16 8 13 8 1 16 16 16 16 16 16 16 16 \n",
      "1 16 16 16 16 1 16 16 16 9 9 9 16 9 9 16 14 16 9 16 9 16 16 16 16 16 16 16 16 16 \n",
      "1 16 16 16 16 1 16 16 16 10 10 16 16 10 16 16 8 4 10 9 10 16 16 16 16 16 16 16 16 16 \n",
      "1 16 16 16 16 1 16 16 16 9 11 11 16 11 11 16 16 16 11 16 11 16 16 16 16 16 1 16 16 16 \n",
      "1 12 16 16 16 1 16 16 1 12 12 16 16 12 16 16 16 16 16 13 16 1 1 16 16 16 16 16 16 16 \n",
      "1 13 16 16 16 1 16 16 16 13 13 16 16 13 16 16 16 16 13 16 16 16 16 16 16 16 16 13 13 13 \n",
      "1 14 16 16 16 1 16 16 16 14 14 5 16 5 5 16 16 16 14 16 14 16 16 16 16 16 16 16 16 16 \n",
      "16 16 16 16 16 16 16 16 16 16 16 16 16 16 16 16 16 16 16 16 16 16 16 16 16 16 16 16 16 16 \n",
      "\n"
     ]
    }
   ],
   "source": [
    "dfa_dot = DFA()\n",
    "dfa_dot.dfa_from_dot_file(file_name=\"dot_example.txt\")\n",
    "print(dfa_dot.print_complete_description())"
   ]
  },
  {
   "cell_type": "code",
   "execution_count": 5,
   "id": "804921eb",
   "metadata": {},
   "outputs": [],
   "source": [
    "f = open(\n",
    "    \"../../../learnlib/examples/src/main/java/de/learnlib/example/DfaEx\" +\n",
    "    \".txt\", \"w\")\n",
    "f.write(dfa_dot.print_complete_description())\n",
    "f.close()"
   ]
  },
  {
   "cell_type": "code",
   "execution_count": 9,
   "id": "fd20974c",
   "metadata": {},
   "outputs": [
    {
     "name": "stdout",
     "output_type": "stream",
     "text": [
      "[ERROR] Failed to execute goal org.codehaus.mojo:exec-maven-plugin:3.5.0:java (default-cli) on project learnlib-examples: An exception occurred while executing the Java class. -308 -> [Help 1]\n",
      "[ERROR] \n",
      "[ERROR] To see the full stack trace of the errors, re-run Maven with the -e switch.\n",
      "[ERROR] Re-run Maven using the -X switch to enable full debug logging.\n",
      "[ERROR] \n",
      "[ERROR] For more information about the errors and possible solutions, please read the following articles:\n",
      "[ERROR] [Help 1] http://cwiki.apache.org/confluence/display/MAVEN/MojoExecutionException\n",
      "\n"
     ]
    }
   ],
   "source": [
    "# # Learn conv_d without advice\n",
    "lstar_output = subprocess.run([\n",
    "    \"cd ../../../learnlib/examples ; mvn exec:java -q -Dexec.mainClass=\\\"de.learnlib.example.LstarExample1\\\" ; cd ../../magisterka/test_algorithm/Lstar\"\n",
    "],\n",
    "                              shell=True,\n",
    "                              capture_output=True,\n",
    "                              text=True)\n",
    "\n",
    "print(lstar_output.stdout)"
   ]
  },
  {
   "cell_type": "markdown",
   "id": "09099005",
   "metadata": {},
   "source": []
  }
 ],
 "metadata": {
  "kernelspec": {
   "display_name": "Python 3",
   "language": "python",
   "name": "python3"
  },
  "language_info": {
   "codemirror_mode": {
    "name": "ipython",
    "version": 3
   },
   "file_extension": ".py",
   "mimetype": "text/x-python",
   "name": "python",
   "nbconvert_exporter": "python",
   "pygments_lexer": "ipython3",
   "version": "3.10.12"
  }
 },
 "nbformat": 4,
 "nbformat_minor": 5
}
