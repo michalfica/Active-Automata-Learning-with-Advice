{
 "cells": [
  {
   "cell_type": "code",
   "execution_count": 15,
   "id": "b8d979dd",
   "metadata": {},
   "outputs": [],
   "source": [
    "import copy, sys\n",
    "import numpy as np\n",
    "\n",
    "sys.path.append(\"../../../\")\n",
    "from importlib import reload\n",
    "\n",
    "import utils.display.tables as tables\n",
    "import inferring.InferringDFA as InferringDFA\n",
    "import utils.runLearnLib.RunLearnLib as RunLearnLib\n",
    "import utils.automata.DFA\n",
    "import utils.advice_systems.SRS as SRS\n",
    "\n",
    "reload(InferringDFA)\n",
    "reload(RunLearnLib)\n",
    "reload(SRS)\n",
    "reload(utils.automata.DFA)\n",
    "reload(tables)\n",
    "\n",
    "from utils.runLearnLib.RunLearnLib import RunLearnLib\n",
    "from inferring.InferringDFA import InferringDFA\n",
    "from utils.automata.DFA.DFA import DFA\n",
    "from utils.advice_systems.SRS import SRS\n",
    "from utils.display.tables import Tables"
   ]
  },
  {
   "cell_type": "markdown",
   "id": "3ed67f1b",
   "metadata": {},
   "source": [
    "## Bitwise addition \n",
    "In this expermient we learn language of bitwise addition. "
   ]
  },
  {
   "cell_type": "code",
   "execution_count": 16,
   "id": "56f9bfbd",
   "metadata": {},
   "outputs": [],
   "source": [
    "dfa = DFA(Q = 3, input_signs=['0', '1', '2', '3', '4', '5', '6', '7'],\n",
    "            δ={(0, '0'):0, (0, '1'):2, (0, '2'):2, (0, '3'):0, (0, '4'):2, (0, '5'):0, (0, '6'):1, (0, '7'):2,\n",
    "               (1, '0'):2, (1, '1'):0, (1, '2'):1, (1, '3'):2, (1, '4'):1, (1, '5'):2, (1, '6'):2, (1, '7'):1,\n",
    "               (2, '0'):2, (2, '1'):2, (2, '2'):2, (2, '3'):2, (2, '4'):2, (2, '5'):2, (2, '6'):2, (2, '7'):2},\n",
    "               F = {0}, type_ = DFA.BITWISE_ADDITION)"
   ]
  },
  {
   "cell_type": "code",
   "execution_count": 17,
   "id": "4efe36f6",
   "metadata": {},
   "outputs": [],
   "source": [
    "learn_dfa = InferringDFA(target=copy.deepcopy(dfa))\n",
    "_, learning_info = learn_dfa.run()\n",
    "\n",
    "learn_dfa_with_advice = InferringDFA(target=copy.deepcopy(dfa), advice_system=SRS(), check_consistency=True)\n",
    "_, learning_info_with_advice = learn_dfa_with_advice.run()"
   ]
  },
  {
   "cell_type": "code",
   "execution_count": 22,
   "id": "4945185f",
   "metadata": {},
   "outputs": [
    {
     "data": {
      "text/html": [
       "<div>\n",
       "<style scoped>\n",
       "    .dataframe tbody tr th:only-of-type {\n",
       "        vertical-align: middle;\n",
       "    }\n",
       "\n",
       "    .dataframe tbody tr th {\n",
       "        vertical-align: top;\n",
       "    }\n",
       "\n",
       "    .dataframe thead tr th {\n",
       "        text-align: left;\n",
       "    }\n",
       "</style>\n",
       "<table border=\"1\" class=\"dataframe\">\n",
       "  <thead>\n",
       "    <tr>\n",
       "      <th></th>\n",
       "      <th>Target language</th>\n",
       "      <th>L*</th>\n",
       "      <th>L* with advice</th>\n",
       "      <th>Reduction</th>\n",
       "    </tr>\n",
       "    <tr>\n",
       "      <th></th>\n",
       "      <th>DFA</th>\n",
       "      <th>MQ</th>\n",
       "      <th>MQ</th>\n",
       "      <th>MQ</th>\n",
       "    </tr>\n",
       "  </thead>\n",
       "  <tbody>\n",
       "    <tr>\n",
       "      <th>0</th>\n",
       "      <td>3</td>\n",
       "      <td>201</td>\n",
       "      <td>115</td>\n",
       "      <td>42%</td>\n",
       "    </tr>\n",
       "    <tr>\n",
       "      <th>1</th>\n",
       "      <td></td>\n",
       "      <td></td>\n",
       "      <td></td>\n",
       "      <td></td>\n",
       "    </tr>\n",
       "  </tbody>\n",
       "</table>\n",
       "</div>"
      ],
      "text/plain": [
       "  Target language   L* L* with advice Reduction\n",
       "              DFA   MQ             MQ        MQ\n",
       "0               3  201            115       42%\n",
       "1                                              "
      ]
     },
     "metadata": {},
     "output_type": "display_data"
    }
   ],
   "source": [
    "lstar_mq = [learning_info[0]]\n",
    "lstar_as_mq = [learning_info_with_advice[0]]\n",
    "\n",
    "red = (\n",
    "    (np.array(lstar_mq) - np.array(lstar_as_mq)) / np.array(lstar_mq)) * 100\n",
    "columns = [('Target language', 'DFA'), ('L*', 'MQ'), ('L* with advice', 'MQ'), ('Reduction', 'MQ')]\n",
    "data = {\n",
    "    columns[0]: [dfa.Q],\n",
    "    columns[1]: lstar_mq,\n",
    "    columns[2]: lstar_as_mq,\n",
    "    columns[3]: [int(r) for r in red]\n",
    "}\n",
    "\n",
    "table_creator = Tables()\n",
    "df = table_creator.create_basic_table(columns=columns, data=data, reduction_column = ('Reduction', 'MQ'))\n",
    "display(df[:-3])"
   ]
  }
 ],
 "metadata": {
  "kernelspec": {
   "display_name": "Python 3",
   "language": "python",
   "name": "python3"
  },
  "language_info": {
   "codemirror_mode": {
    "name": "ipython",
    "version": 3
   },
   "file_extension": ".py",
   "mimetype": "text/x-python",
   "name": "python",
   "nbconvert_exporter": "python",
   "pygments_lexer": "ipython3",
   "version": "3.10.12"
  }
 },
 "nbformat": 4,
 "nbformat_minor": 5
}
